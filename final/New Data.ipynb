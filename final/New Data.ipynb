{
 "cells": [
  {
   "cell_type": "markdown",
   "metadata": {},
   "source": [
    "## Import modules and data"
   ]
  },
  {
   "cell_type": "code",
   "execution_count": 1,
   "metadata": {
    "scrolled": true
   },
   "outputs": [],
   "source": [
    "import pandas as pd\n",
    "import numpy as np\n",
    "import datetime\n",
    "import matplotlib.pyplot as plt\n",
    "import modelBuilder as mb\n",
    "import main\n",
    "\n",
    "df = pd.read_csv('data.csv')\n",
    "df.Time = pd.to_datetime(df.Time)  # change time to datetime object\n",
    "data = df.drop(['Sourcehash'],axis=1)  # drop unneeded hash"
   ]
  },
  {
   "cell_type": "markdown",
   "metadata": {},
   "source": [
    "## Cleaning Up Data"
   ]
  },
  {
   "cell_type": "code",
   "execution_count": 2,
   "metadata": {},
   "outputs": [],
   "source": [
    "df.Time = pd.to_datetime(df.Time)  # change time to datetime object\n",
    "data = df.drop(['Sourcehash'],axis=1)  # drop unneeded hash"
   ]
  },
  {
   "cell_type": "code",
   "execution_count": 3,
   "metadata": {},
   "outputs": [],
   "source": [
    "# Change incorrect, hint, and correct to binary features\n",
    "data.loc[:,\"incorrect\"] = np.where(data['Score'] == 0, 1, 0)\n",
    "data.loc[:,\"hint\"] = np.where((data['Score'] > 0) & (data['Score'] < 100), 1, 0)\n",
    "data.loc[:,\"correct\"] = np.where((data['Score'] == 100), 1, 0)"
   ]
  },
  {
   "cell_type": "code",
   "execution_count": 4,
   "metadata": {},
   "outputs": [],
   "source": [
    "# Find indices where score is less than 100\n",
    "index = data.index\n",
    "condition = data['Score'] < 100   # Boolean for when students score less than a 100\n",
    "not100Indices = index[condition]   # Index of all submissions where students score less than a 100"
   ]
  },
  {
   "cell_type": "code",
   "execution_count": 5,
   "metadata": {},
   "outputs": [],
   "source": [
    "# Find indices where score is 100, but drop the duplicates\n",
    "data100s = data.loc[data['Score'] == 100]\n",
    "sortedData = data100s.sort_values('Time', axis=0, ascending=True)\n",
    "dataNoDups = pd.DataFrame(data100s,columns=['Stud_ID','Topic','Score']).drop_duplicates()\n",
    "indices = dataNoDups.index\n",
    "i = indices.append(not100Indices)\n",
    "cleanData = data.iloc[i]\n",
    "correctnessData = cleanData[[\"Stud_ID\", \"Topic\", \"incorrect\",\"hint\"]].groupby([\"Stud_ID\",\"Topic\"]).sum().reset_index()"
   ]
  },
  {
   "cell_type": "markdown",
   "metadata": {},
   "source": [
    "## Find Duration for Each Student on Each Problem"
   ]
  },
  {
   "cell_type": "code",
   "execution_count": 6,
   "metadata": {},
   "outputs": [],
   "source": [
    "def timefunction(series):\n",
    "    ''' Calculates the total time a student spent on a problem\n",
    "\n",
    "        Parameters:\n",
    "        series (pandas series): Series of datetime objects\n",
    "\n",
    "        Returns:\n",
    "        dur (float): The amount of time a student took ok a particular problem\n",
    "    '''\n",
    "    series = series.sort_values()\n",
    "    length = len(series)\n",
    "    if length == 1:\n",
    "        dur = 0\n",
    "    else: \n",
    "        duration = series.iloc[length - 1] - series.iloc[0]\n",
    "        dur = duration.total_seconds() / 60\n",
    "        if dur > 60:\n",
    "            dur = 60\n",
    "    return dur"
   ]
  },
  {
   "cell_type": "code",
   "execution_count": 7,
   "metadata": {
    "scrolled": true
   },
   "outputs": [],
   "source": [
    "# Use the time function to find the time per problem for each student\n",
    "subsetData = cleanData[['Stud_ID', 'Topic', 'Time']]\n",
    "timeData = subsetData.groupby(['Stud_ID', 'Topic']).agg(func=timefunction).reset_index()"
   ]
  },
  {
   "cell_type": "code",
   "execution_count": 8,
   "metadata": {},
   "outputs": [],
   "source": [
    "# Merge the correctness data with the time data to get the finished dataset\n",
    "final_df = pd.merge(correctnessData, timeData,  how='left', left_on=['Stud_ID','Topic'], right_on = ['Stud_ID','Topic'])\n",
    "final = final_df.rename(columns={'Stud_ID': \"stud_id\", \"Topic\": 'problem_id', \"Time\": \"duration\"})"
   ]
  },
  {
   "cell_type": "code",
   "execution_count": 9,
   "metadata": {},
   "outputs": [
    {
     "data": {
      "text/html": [
       "<div>\n",
       "<style scoped>\n",
       "    .dataframe tbody tr th:only-of-type {\n",
       "        vertical-align: middle;\n",
       "    }\n",
       "\n",
       "    .dataframe tbody tr th {\n",
       "        vertical-align: top;\n",
       "    }\n",
       "\n",
       "    .dataframe thead th {\n",
       "        text-align: right;\n",
       "    }\n",
       "</style>\n",
       "<table border=\"1\" class=\"dataframe\">\n",
       "  <thead>\n",
       "    <tr style=\"text-align: right;\">\n",
       "      <th></th>\n",
       "      <th>incorrectLower</th>\n",
       "      <th>hintLower</th>\n",
       "      <th>durationLower</th>\n",
       "      <th>incorrectUpper</th>\n",
       "      <th>hintUpper</th>\n",
       "      <th>durationUpper</th>\n",
       "    </tr>\n",
       "    <tr>\n",
       "      <th>problem_id</th>\n",
       "      <th></th>\n",
       "      <th></th>\n",
       "      <th></th>\n",
       "      <th></th>\n",
       "      <th></th>\n",
       "      <th></th>\n",
       "    </tr>\n",
       "  </thead>\n",
       "  <tbody>\n",
       "    <tr>\n",
       "      <th>CAESAR</th>\n",
       "      <td>1.000000</td>\n",
       "      <td>0.000000</td>\n",
       "      <td>0.000000</td>\n",
       "      <td>1.000000</td>\n",
       "      <td>0.000000</td>\n",
       "      <td>0.000000</td>\n",
       "    </tr>\n",
       "    <tr>\n",
       "      <th>Caesar_gc</th>\n",
       "      <td>1.000000</td>\n",
       "      <td>0.000000</td>\n",
       "      <td>0.000000</td>\n",
       "      <td>1.000000</td>\n",
       "      <td>0.000000</td>\n",
       "      <td>0.000000</td>\n",
       "    </tr>\n",
       "    <tr>\n",
       "      <th>Lsn5_skill1</th>\n",
       "      <td>2.000000</td>\n",
       "      <td>0.000000</td>\n",
       "      <td>1.366667</td>\n",
       "      <td>2.000000</td>\n",
       "      <td>0.000000</td>\n",
       "      <td>1.366667</td>\n",
       "    </tr>\n",
       "    <tr>\n",
       "      <th>Lsn7_lists</th>\n",
       "      <td>8.000000</td>\n",
       "      <td>2.000000</td>\n",
       "      <td>23.033333</td>\n",
       "      <td>8.000000</td>\n",
       "      <td>2.000000</td>\n",
       "      <td>23.033333</td>\n",
       "    </tr>\n",
       "    <tr>\n",
       "      <th>PEX1</th>\n",
       "      <td>0.795876</td>\n",
       "      <td>12.708597</td>\n",
       "      <td>37.655661</td>\n",
       "      <td>1.408248</td>\n",
       "      <td>22.582806</td>\n",
       "      <td>55.188679</td>\n",
       "    </tr>\n",
       "    <tr>\n",
       "      <th>...</th>\n",
       "      <td>...</td>\n",
       "      <td>...</td>\n",
       "      <td>...</td>\n",
       "      <td>...</td>\n",
       "      <td>...</td>\n",
       "      <td>...</td>\n",
       "    </tr>\n",
       "    <tr>\n",
       "      <th>pex2</th>\n",
       "      <td>1.706114</td>\n",
       "      <td>0.000000</td>\n",
       "      <td>13.559933</td>\n",
       "      <td>2.985732</td>\n",
       "      <td>0.440779</td>\n",
       "      <td>33.602074</td>\n",
       "    </tr>\n",
       "    <tr>\n",
       "      <th>pex2_gc</th>\n",
       "      <td>2.390562</td>\n",
       "      <td>0.000000</td>\n",
       "      <td>18.511964</td>\n",
       "      <td>4.523960</td>\n",
       "      <td>0.380021</td>\n",
       "      <td>39.120139</td>\n",
       "    </tr>\n",
       "    <tr>\n",
       "      <th>pex3</th>\n",
       "      <td>8.355244</td>\n",
       "      <td>0.000000</td>\n",
       "      <td>55.035533</td>\n",
       "      <td>13.726760</td>\n",
       "      <td>0.000000</td>\n",
       "      <td>63.257881</td>\n",
       "    </tr>\n",
       "    <tr>\n",
       "      <th>skywriter</th>\n",
       "      <td>1.000000</td>\n",
       "      <td>0.000000</td>\n",
       "      <td>0.000000</td>\n",
       "      <td>1.000000</td>\n",
       "      <td>0.000000</td>\n",
       "      <td>0.000000</td>\n",
       "    </tr>\n",
       "    <tr>\n",
       "      <th>to_the_end</th>\n",
       "      <td>3.125000</td>\n",
       "      <td>8.375000</td>\n",
       "      <td>60.000000</td>\n",
       "      <td>4.250000</td>\n",
       "      <td>11.750000</td>\n",
       "      <td>60.000000</td>\n",
       "    </tr>\n",
       "  </tbody>\n",
       "</table>\n",
       "<p>400 rows × 6 columns</p>\n",
       "</div>"
      ],
      "text/plain": [
       "             incorrectLower  hintLower  durationLower  incorrectUpper  \\\n",
       "problem_id                                                              \n",
       "CAESAR             1.000000   0.000000       0.000000        1.000000   \n",
       "Caesar_gc          1.000000   0.000000       0.000000        1.000000   \n",
       "Lsn5_skill1        2.000000   0.000000       1.366667        2.000000   \n",
       "Lsn7_lists         8.000000   2.000000      23.033333        8.000000   \n",
       "PEX1               0.795876  12.708597      37.655661        1.408248   \n",
       "...                     ...        ...            ...             ...   \n",
       "pex2               1.706114   0.000000      13.559933        2.985732   \n",
       "pex2_gc            2.390562   0.000000      18.511964        4.523960   \n",
       "pex3               8.355244   0.000000      55.035533       13.726760   \n",
       "skywriter          1.000000   0.000000       0.000000        1.000000   \n",
       "to_the_end         3.125000   8.375000      60.000000        4.250000   \n",
       "\n",
       "             hintUpper  durationUpper  \n",
       "problem_id                             \n",
       "CAESAR        0.000000       0.000000  \n",
       "Caesar_gc     0.000000       0.000000  \n",
       "Lsn5_skill1   0.000000       1.366667  \n",
       "Lsn7_lists    2.000000      23.033333  \n",
       "PEX1         22.582806      55.188679  \n",
       "...                ...            ...  \n",
       "pex2          0.440779      33.602074  \n",
       "pex2_gc       0.380021      39.120139  \n",
       "pex3          0.000000      63.257881  \n",
       "skywriter     0.000000       0.000000  \n",
       "to_the_end   11.750000      60.000000  \n",
       "\n",
       "[400 rows x 6 columns]"
      ]
     },
     "execution_count": 9,
     "metadata": {},
     "output_type": "execute_result"
    }
   ],
   "source": [
    "import modelBuilder as mb\n",
    "mb.distributionBuilder(final)"
   ]
  },
  {
   "cell_type": "code",
   "execution_count": null,
   "metadata": {},
   "outputs": [],
   "source": [
    "import modelBuilder as mb\n",
    "import random\n",
    "data = mb.importData()  # Get the data and question answer pairs\n",
    "#     distributions = mb.distributionBuilder(data)  # build the chi-squared upper and lower bound dist for each Q\n",
    "#     questionDifficulty = mb.difficulty(data)  # build student perceived difficulty model\n",
    "#     problemNum, problem, answer = mb.startingQ(data, pairs, questionDifficulty)  # get the middle difficulty question\n",
    "#     student = Student(problemNum, problem, answer)  # Initialize student with the starting problem and answer\n",
    "#     return student, data, pairs, questionDifficulty, distributions  # return all that we found"
   ]
  },
  {
   "cell_type": "code",
   "execution_count": 10,
   "metadata": {
    "scrolled": true
   },
   "outputs": [
    {
     "data": {
      "text/html": [
       "<div>\n",
       "<style scoped>\n",
       "    .dataframe tbody tr th:only-of-type {\n",
       "        vertical-align: middle;\n",
       "    }\n",
       "\n",
       "    .dataframe tbody tr th {\n",
       "        vertical-align: top;\n",
       "    }\n",
       "\n",
       "    .dataframe thead th {\n",
       "        text-align: right;\n",
       "    }\n",
       "</style>\n",
       "<table border=\"1\" class=\"dataframe\">\n",
       "  <thead>\n",
       "    <tr style=\"text-align: right;\">\n",
       "      <th></th>\n",
       "      <th>problem_id</th>\n",
       "      <th>difficulty</th>\n",
       "    </tr>\n",
       "  </thead>\n",
       "  <tbody>\n",
       "    <tr>\n",
       "      <th>0</th>\n",
       "      <td>lsn23_soundboard</td>\n",
       "      <td>0.000000</td>\n",
       "    </tr>\n",
       "    <tr>\n",
       "      <th>1</th>\n",
       "      <td>lsn22_bouncingball</td>\n",
       "      <td>0.000000</td>\n",
       "    </tr>\n",
       "    <tr>\n",
       "      <th>2</th>\n",
       "      <td>a2_4_ques</td>\n",
       "      <td>0.000000</td>\n",
       "    </tr>\n",
       "    <tr>\n",
       "      <th>3</th>\n",
       "      <td>a1_7_dog</td>\n",
       "      <td>0.000000</td>\n",
       "    </tr>\n",
       "    <tr>\n",
       "      <th>4</th>\n",
       "      <td>a1_7_pilot_quals</td>\n",
       "      <td>0.000000</td>\n",
       "    </tr>\n",
       "    <tr>\n",
       "      <th>...</th>\n",
       "      <td>...</td>\n",
       "      <td>...</td>\n",
       "    </tr>\n",
       "    <tr>\n",
       "      <th>395</th>\n",
       "      <td>lsn15_survivors_by_gender</td>\n",
       "      <td>0.723231</td>\n",
       "    </tr>\n",
       "    <tr>\n",
       "      <th>396</th>\n",
       "      <td>lsn24_nasa</td>\n",
       "      <td>0.738894</td>\n",
       "    </tr>\n",
       "    <tr>\n",
       "      <th>397</th>\n",
       "      <td>Lsn7_lists</td>\n",
       "      <td>0.887108</td>\n",
       "    </tr>\n",
       "    <tr>\n",
       "      <th>398</th>\n",
       "      <td>to_the_end</td>\n",
       "      <td>0.908658</td>\n",
       "    </tr>\n",
       "    <tr>\n",
       "      <th>399</th>\n",
       "      <td>pex1</td>\n",
       "      <td>1.000000</td>\n",
       "    </tr>\n",
       "  </tbody>\n",
       "</table>\n",
       "<p>400 rows × 2 columns</p>\n",
       "</div>"
      ],
      "text/plain": [
       "                    problem_id  difficulty\n",
       "0             lsn23_soundboard    0.000000\n",
       "1           lsn22_bouncingball    0.000000\n",
       "2                    a2_4_ques    0.000000\n",
       "3                     a1_7_dog    0.000000\n",
       "4             a1_7_pilot_quals    0.000000\n",
       "..                         ...         ...\n",
       "395  lsn15_survivors_by_gender    0.723231\n",
       "396                 lsn24_nasa    0.738894\n",
       "397                 Lsn7_lists    0.887108\n",
       "398                 to_the_end    0.908658\n",
       "399                       pex1    1.000000\n",
       "\n",
       "[400 rows x 2 columns]"
      ]
     },
     "execution_count": 10,
     "metadata": {},
     "output_type": "execute_result"
    }
   ],
   "source": [
    "questionDifficulty"
   ]
  },
  {
   "cell_type": "code",
   "execution_count": null,
   "metadata": {},
   "outputs": [],
   "source": []
  },
  {
   "cell_type": "code",
   "execution_count": null,
   "metadata": {},
   "outputs": [],
   "source": []
  },
  {
   "cell_type": "code",
   "execution_count": 12,
   "metadata": {
    "scrolled": true
   },
   "outputs": [
    {
     "name": "stderr",
     "output_type": "stream",
     "text": [
      "C:\\Users\\C22Evan.Marrone\\Anaconda3\\lib\\site-packages\\pandas\\core\\generic.py:5494: SettingWithCopyWarning: \n",
      "A value is trying to be set on a copy of a slice from a DataFrame.\n",
      "Try using .loc[row_indexer,col_indexer] = value instead\n",
      "\n",
      "See the caveats in the documentation: https://pandas.pydata.org/pandas-docs/stable/user_guide/indexing.html#returning-a-view-versus-a-copy\n",
      "  self[name] = value\n"
     ]
    }
   ],
   "source": [
    "import pandas as pd\n",
    "import numpy as np\n",
    "import datetime\n",
    "import matplotlib.pyplot as plt\n",
    "import modelBuilder as mb\n",
    "import main\n",
    "\n",
    "df = pd.read_csv('data.csv')\n",
    "df.Time = pd.to_datetime(df.Time)  # change time to datetime object\n",
    "data = df.drop(['Sourcehash'],axis=1)  # drop unneeded hash\n",
    "\n",
    "dayda = df.loc[(df.Topic == \"lsn6_math\") & (df.Stud_ID == \"dee9256848fdca4942f5f3243ace75be0f7f64c9\")]\n",
    "qData = mb.convertSQLtoClean(dayda)\n",
    "problem, questionDifficulty, distributions = main.initialize()"
   ]
  },
  {
   "cell_type": "code",
   "execution_count": 13,
   "metadata": {},
   "outputs": [
    {
     "data": {
      "text/html": [
       "<div>\n",
       "<style scoped>\n",
       "    .dataframe tbody tr th:only-of-type {\n",
       "        vertical-align: middle;\n",
       "    }\n",
       "\n",
       "    .dataframe tbody tr th {\n",
       "        vertical-align: top;\n",
       "    }\n",
       "\n",
       "    .dataframe thead th {\n",
       "        text-align: right;\n",
       "    }\n",
       "</style>\n",
       "<table border=\"1\" class=\"dataframe\">\n",
       "  <thead>\n",
       "    <tr style=\"text-align: right;\">\n",
       "      <th></th>\n",
       "      <th>Stud_ID</th>\n",
       "      <th>Topic</th>\n",
       "      <th>Time</th>\n",
       "      <th>Graded</th>\n",
       "      <th>Score</th>\n",
       "      <th>Sourcehash</th>\n",
       "    </tr>\n",
       "  </thead>\n",
       "  <tbody>\n",
       "    <tr>\n",
       "      <th>328274</th>\n",
       "      <td>dee9256848fdca4942f5f3243ace75be0f7f64c9</td>\n",
       "      <td>lsn6_math</td>\n",
       "      <td>2021-07-20 21:20:54</td>\n",
       "      <td>1</td>\n",
       "      <td>0.0</td>\n",
       "      <td>ad44202e36aaab0ba47c735a258f838bda96c3a9</td>\n",
       "    </tr>\n",
       "    <tr>\n",
       "      <th>328276</th>\n",
       "      <td>dee9256848fdca4942f5f3243ace75be0f7f64c9</td>\n",
       "      <td>lsn6_math</td>\n",
       "      <td>2021-07-20 21:21:38</td>\n",
       "      <td>1</td>\n",
       "      <td>0.0</td>\n",
       "      <td>bc40bf92b3241bf18ff48c851bece5f535cf54da</td>\n",
       "    </tr>\n",
       "    <tr>\n",
       "      <th>328277</th>\n",
       "      <td>dee9256848fdca4942f5f3243ace75be0f7f64c9</td>\n",
       "      <td>lsn6_math</td>\n",
       "      <td>2021-07-20 21:21:50</td>\n",
       "      <td>1</td>\n",
       "      <td>0.0</td>\n",
       "      <td>410012ce92cf1b0d574ea2703f80524626af4bdd</td>\n",
       "    </tr>\n",
       "    <tr>\n",
       "      <th>328278</th>\n",
       "      <td>dee9256848fdca4942f5f3243ace75be0f7f64c9</td>\n",
       "      <td>lsn6_math</td>\n",
       "      <td>2021-07-20 21:24:25</td>\n",
       "      <td>1</td>\n",
       "      <td>0.0</td>\n",
       "      <td>62786f7d0627ffb83cf40ead635ca5a6c69361f4</td>\n",
       "    </tr>\n",
       "    <tr>\n",
       "      <th>328279</th>\n",
       "      <td>dee9256848fdca4942f5f3243ace75be0f7f64c9</td>\n",
       "      <td>lsn6_math</td>\n",
       "      <td>2021-07-20 21:24:57</td>\n",
       "      <td>1</td>\n",
       "      <td>0.0</td>\n",
       "      <td>88fe441ac9ccfefcffdadd246639e20d2dccd449</td>\n",
       "    </tr>\n",
       "    <tr>\n",
       "      <th>328280</th>\n",
       "      <td>dee9256848fdca4942f5f3243ace75be0f7f64c9</td>\n",
       "      <td>lsn6_math</td>\n",
       "      <td>2021-07-20 21:26:55</td>\n",
       "      <td>1</td>\n",
       "      <td>100.0</td>\n",
       "      <td>e9ab4039b2b26249f736dee75fc29694a172ebd7</td>\n",
       "    </tr>\n",
       "  </tbody>\n",
       "</table>\n",
       "</div>"
      ],
      "text/plain": [
       "                                         Stud_ID      Topic  \\\n",
       "328274  dee9256848fdca4942f5f3243ace75be0f7f64c9  lsn6_math   \n",
       "328276  dee9256848fdca4942f5f3243ace75be0f7f64c9  lsn6_math   \n",
       "328277  dee9256848fdca4942f5f3243ace75be0f7f64c9  lsn6_math   \n",
       "328278  dee9256848fdca4942f5f3243ace75be0f7f64c9  lsn6_math   \n",
       "328279  dee9256848fdca4942f5f3243ace75be0f7f64c9  lsn6_math   \n",
       "328280  dee9256848fdca4942f5f3243ace75be0f7f64c9  lsn6_math   \n",
       "\n",
       "                      Time  Graded  Score  \\\n",
       "328274 2021-07-20 21:20:54       1    0.0   \n",
       "328276 2021-07-20 21:21:38       1    0.0   \n",
       "328277 2021-07-20 21:21:50       1    0.0   \n",
       "328278 2021-07-20 21:24:25       1    0.0   \n",
       "328279 2021-07-20 21:24:57       1    0.0   \n",
       "328280 2021-07-20 21:26:55       1  100.0   \n",
       "\n",
       "                                      Sourcehash  \n",
       "328274  ad44202e36aaab0ba47c735a258f838bda96c3a9  \n",
       "328276  bc40bf92b3241bf18ff48c851bece5f535cf54da  \n",
       "328277  410012ce92cf1b0d574ea2703f80524626af4bdd  \n",
       "328278  62786f7d0627ffb83cf40ead635ca5a6c69361f4  \n",
       "328279  88fe441ac9ccfefcffdadd246639e20d2dccd449  \n",
       "328280  e9ab4039b2b26249f736dee75fc29694a172ebd7  "
      ]
     },
     "execution_count": 13,
     "metadata": {},
     "output_type": "execute_result"
    }
   ],
   "source": [
    "dayda"
   ]
  },
  {
   "cell_type": "code",
   "execution_count": 14,
   "metadata": {
    "scrolled": true
   },
   "outputs": [],
   "source": [
    "firstAttempt = df.loc[(df.Topic == \"lsn6_math\") & (df.Stud_ID == \"dee9256848fdca4942f5f3243ace75be0f7f64c9\") & (df.Time == \"2021-07-20 21:20:54\")]\n",
    "secondAttempt = df.loc[(df.Topic == \"lsn6_math\") & (df.Stud_ID == \"dee9256848fdca4942f5f3243ace75be0f7f64c9\") & (df.Time == \"2021-07-20 21:21:38\")]"
   ]
  },
  {
   "cell_type": "code",
   "execution_count": 23,
   "metadata": {},
   "outputs": [
    {
     "data": {
      "text/html": [
       "<div>\n",
       "<style scoped>\n",
       "    .dataframe tbody tr th:only-of-type {\n",
       "        vertical-align: middle;\n",
       "    }\n",
       "\n",
       "    .dataframe tbody tr th {\n",
       "        vertical-align: top;\n",
       "    }\n",
       "\n",
       "    .dataframe thead th {\n",
       "        text-align: right;\n",
       "    }\n",
       "</style>\n",
       "<table border=\"1\" class=\"dataframe\">\n",
       "  <thead>\n",
       "    <tr style=\"text-align: right;\">\n",
       "      <th></th>\n",
       "      <th>Stud_ID</th>\n",
       "      <th>Topic</th>\n",
       "      <th>Time</th>\n",
       "      <th>Graded</th>\n",
       "      <th>Score</th>\n",
       "      <th>Sourcehash</th>\n",
       "    </tr>\n",
       "  </thead>\n",
       "  <tbody>\n",
       "    <tr>\n",
       "      <th>328274</th>\n",
       "      <td>dee9256848fdca4942f5f3243ace75be0f7f64c9</td>\n",
       "      <td>lsn6_math</td>\n",
       "      <td>2021-07-20 21:20:54</td>\n",
       "      <td>1</td>\n",
       "      <td>0.0</td>\n",
       "      <td>ad44202e36aaab0ba47c735a258f838bda96c3a9</td>\n",
       "    </tr>\n",
       "    <tr>\n",
       "      <th>328276</th>\n",
       "      <td>dee9256848fdca4942f5f3243ace75be0f7f64c9</td>\n",
       "      <td>lsn6_math</td>\n",
       "      <td>2021-07-20 21:21:38</td>\n",
       "      <td>1</td>\n",
       "      <td>0.0</td>\n",
       "      <td>bc40bf92b3241bf18ff48c851bece5f535cf54da</td>\n",
       "    </tr>\n",
       "  </tbody>\n",
       "</table>\n",
       "</div>"
      ],
      "text/plain": [
       "                                         Stud_ID      Topic  \\\n",
       "328274  dee9256848fdca4942f5f3243ace75be0f7f64c9  lsn6_math   \n",
       "328276  dee9256848fdca4942f5f3243ace75be0f7f64c9  lsn6_math   \n",
       "\n",
       "                      Time  Graded  Score  \\\n",
       "328274 2021-07-20 21:20:54       1    0.0   \n",
       "328276 2021-07-20 21:21:38       1    0.0   \n",
       "\n",
       "                                      Sourcehash  \n",
       "328274  ad44202e36aaab0ba47c735a258f838bda96c3a9  \n",
       "328276  bc40bf92b3241bf18ff48c851bece5f535cf54da  "
      ]
     },
     "execution_count": 23,
     "metadata": {},
     "output_type": "execute_result"
    }
   ],
   "source": [
    "currentProb = pd.DataFrame()\n",
    "currentProb = currentProb.append(firstAttempt)\n",
    "currentProb = currentProb.append(secondAttempt)\n",
    "currentProb"
   ]
  },
  {
   "cell_type": "code",
   "execution_count": 15,
   "metadata": {
    "scrolled": true
   },
   "outputs": [
    {
     "data": {
      "text/html": [
       "<div>\n",
       "<style scoped>\n",
       "    .dataframe tbody tr th:only-of-type {\n",
       "        vertical-align: middle;\n",
       "    }\n",
       "\n",
       "    .dataframe tbody tr th {\n",
       "        vertical-align: top;\n",
       "    }\n",
       "\n",
       "    .dataframe thead th {\n",
       "        text-align: right;\n",
       "    }\n",
       "</style>\n",
       "<table border=\"1\" class=\"dataframe\">\n",
       "  <thead>\n",
       "    <tr style=\"text-align: right;\">\n",
       "      <th></th>\n",
       "      <th>Stud_ID</th>\n",
       "      <th>Topic</th>\n",
       "      <th>Time</th>\n",
       "      <th>Graded</th>\n",
       "      <th>Score</th>\n",
       "      <th>Sourcehash</th>\n",
       "    </tr>\n",
       "  </thead>\n",
       "  <tbody>\n",
       "    <tr>\n",
       "      <th>328274</th>\n",
       "      <td>dee9256848fdca4942f5f3243ace75be0f7f64c9</td>\n",
       "      <td>lsn6_math</td>\n",
       "      <td>2021-07-20 21:20:54</td>\n",
       "      <td>1</td>\n",
       "      <td>0.0</td>\n",
       "      <td>ad44202e36aaab0ba47c735a258f838bda96c3a9</td>\n",
       "    </tr>\n",
       "  </tbody>\n",
       "</table>\n",
       "</div>"
      ],
      "text/plain": [
       "                                         Stud_ID      Topic  \\\n",
       "328274  dee9256848fdca4942f5f3243ace75be0f7f64c9  lsn6_math   \n",
       "\n",
       "                      Time  Graded  Score  \\\n",
       "328274 2021-07-20 21:20:54       1    0.0   \n",
       "\n",
       "                                      Sourcehash  \n",
       "328274  ad44202e36aaab0ba47c735a258f838bda96c3a9  "
      ]
     },
     "execution_count": 15,
     "metadata": {},
     "output_type": "execute_result"
    }
   ],
   "source": [
    "firstAttempt"
   ]
  },
  {
   "cell_type": "code",
   "execution_count": 16,
   "metadata": {},
   "outputs": [
    {
     "data": {
      "text/html": [
       "<div>\n",
       "<style scoped>\n",
       "    .dataframe tbody tr th:only-of-type {\n",
       "        vertical-align: middle;\n",
       "    }\n",
       "\n",
       "    .dataframe tbody tr th {\n",
       "        vertical-align: top;\n",
       "    }\n",
       "\n",
       "    .dataframe thead th {\n",
       "        text-align: right;\n",
       "    }\n",
       "</style>\n",
       "<table border=\"1\" class=\"dataframe\">\n",
       "  <thead>\n",
       "    <tr style=\"text-align: right;\">\n",
       "      <th></th>\n",
       "      <th>Stud_ID</th>\n",
       "      <th>Topic</th>\n",
       "      <th>Time</th>\n",
       "      <th>Graded</th>\n",
       "      <th>Score</th>\n",
       "      <th>Sourcehash</th>\n",
       "    </tr>\n",
       "  </thead>\n",
       "  <tbody>\n",
       "    <tr>\n",
       "      <th>328276</th>\n",
       "      <td>dee9256848fdca4942f5f3243ace75be0f7f64c9</td>\n",
       "      <td>lsn6_math</td>\n",
       "      <td>2021-07-20 21:21:38</td>\n",
       "      <td>1</td>\n",
       "      <td>0.0</td>\n",
       "      <td>bc40bf92b3241bf18ff48c851bece5f535cf54da</td>\n",
       "    </tr>\n",
       "  </tbody>\n",
       "</table>\n",
       "</div>"
      ],
      "text/plain": [
       "                                         Stud_ID      Topic  \\\n",
       "328276  dee9256848fdca4942f5f3243ace75be0f7f64c9  lsn6_math   \n",
       "\n",
       "                      Time  Graded  Score  \\\n",
       "328276 2021-07-20 21:21:38       1    0.0   \n",
       "\n",
       "                                      Sourcehash  \n",
       "328276  bc40bf92b3241bf18ff48c851bece5f535cf54da  "
      ]
     },
     "execution_count": 16,
     "metadata": {},
     "output_type": "execute_result"
    }
   ],
   "source": [
    "secondAttempt"
   ]
  },
  {
   "cell_type": "code",
   "execution_count": 4,
   "metadata": {},
   "outputs": [
    {
     "data": {
      "text/plain": [
       "'lsn14_class2017'"
      ]
     },
     "execution_count": 4,
     "metadata": {},
     "output_type": "execute_result"
    }
   ],
   "source": [
    "mb.nextQuestion(problem, questionDifficulty, distributions, qData)"
   ]
  },
  {
   "cell_type": "code",
   "execution_count": 5,
   "metadata": {},
   "outputs": [
    {
     "data": {
      "text/html": [
       "<div>\n",
       "<style scoped>\n",
       "    .dataframe tbody tr th:only-of-type {\n",
       "        vertical-align: middle;\n",
       "    }\n",
       "\n",
       "    .dataframe tbody tr th {\n",
       "        vertical-align: top;\n",
       "    }\n",
       "\n",
       "    .dataframe thead th {\n",
       "        text-align: right;\n",
       "    }\n",
       "</style>\n",
       "<table border=\"1\" class=\"dataframe\">\n",
       "  <thead>\n",
       "    <tr style=\"text-align: right;\">\n",
       "      <th></th>\n",
       "      <th>problem_id</th>\n",
       "      <th>difficulty</th>\n",
       "    </tr>\n",
       "  </thead>\n",
       "  <tbody>\n",
       "    <tr>\n",
       "      <th>266</th>\n",
       "      <td>lsn14_class2017</td>\n",
       "      <td>0.182921</td>\n",
       "    </tr>\n",
       "  </tbody>\n",
       "</table>\n",
       "</div>"
      ],
      "text/plain": [
       "          problem_id  difficulty\n",
       "266  lsn14_class2017    0.182921"
      ]
     },
     "execution_count": 5,
     "metadata": {},
     "output_type": "execute_result"
    }
   ],
   "source": [
    "questionDifficulty.loc[questionDifficulty.problem_id == 'lsn14_class2017']"
   ]
  },
  {
   "cell_type": "code",
   "execution_count": 25,
   "metadata": {},
   "outputs": [],
   "source": [
    "df = pd.DataFrame(columns = [\"Stud_ID\",\"Topic\",\"Time\",\"Graded\",\"Score\",\"Sourcehash\"])"
   ]
  },
  {
   "cell_type": "code",
   "execution_count": 29,
   "metadata": {},
   "outputs": [
    {
     "data": {
      "text/html": [
       "<div>\n",
       "<style scoped>\n",
       "    .dataframe tbody tr th:only-of-type {\n",
       "        vertical-align: middle;\n",
       "    }\n",
       "\n",
       "    .dataframe tbody tr th {\n",
       "        vertical-align: top;\n",
       "    }\n",
       "\n",
       "    .dataframe thead th {\n",
       "        text-align: right;\n",
       "    }\n",
       "</style>\n",
       "<table border=\"1\" class=\"dataframe\">\n",
       "  <thead>\n",
       "    <tr style=\"text-align: right;\">\n",
       "      <th></th>\n",
       "      <th>0</th>\n",
       "      <th>Graded</th>\n",
       "      <th>Score</th>\n",
       "      <th>Sourcehash</th>\n",
       "      <th>Stud_ID</th>\n",
       "      <th>Time</th>\n",
       "      <th>Topic</th>\n",
       "    </tr>\n",
       "  </thead>\n",
       "  <tbody>\n",
       "    <tr>\n",
       "      <th>0</th>\n",
       "      <td>1.0</td>\n",
       "      <td>NaN</td>\n",
       "      <td>NaN</td>\n",
       "      <td>NaN</td>\n",
       "      <td>NaN</td>\n",
       "      <td>NaN</td>\n",
       "      <td>NaN</td>\n",
       "    </tr>\n",
       "    <tr>\n",
       "      <th>1</th>\n",
       "      <td>2.0</td>\n",
       "      <td>NaN</td>\n",
       "      <td>NaN</td>\n",
       "      <td>NaN</td>\n",
       "      <td>NaN</td>\n",
       "      <td>NaN</td>\n",
       "      <td>NaN</td>\n",
       "    </tr>\n",
       "    <tr>\n",
       "      <th>2</th>\n",
       "      <td>3.0</td>\n",
       "      <td>NaN</td>\n",
       "      <td>NaN</td>\n",
       "      <td>NaN</td>\n",
       "      <td>NaN</td>\n",
       "      <td>NaN</td>\n",
       "      <td>NaN</td>\n",
       "    </tr>\n",
       "    <tr>\n",
       "      <th>3</th>\n",
       "      <td>4.0</td>\n",
       "      <td>NaN</td>\n",
       "      <td>NaN</td>\n",
       "      <td>NaN</td>\n",
       "      <td>NaN</td>\n",
       "      <td>NaN</td>\n",
       "      <td>NaN</td>\n",
       "    </tr>\n",
       "    <tr>\n",
       "      <th>4</th>\n",
       "      <td>5.0</td>\n",
       "      <td>NaN</td>\n",
       "      <td>NaN</td>\n",
       "      <td>NaN</td>\n",
       "      <td>NaN</td>\n",
       "      <td>NaN</td>\n",
       "      <td>NaN</td>\n",
       "    </tr>\n",
       "    <tr>\n",
       "      <th>5</th>\n",
       "      <td>6.0</td>\n",
       "      <td>NaN</td>\n",
       "      <td>NaN</td>\n",
       "      <td>NaN</td>\n",
       "      <td>NaN</td>\n",
       "      <td>NaN</td>\n",
       "      <td>NaN</td>\n",
       "    </tr>\n",
       "  </tbody>\n",
       "</table>\n",
       "</div>"
      ],
      "text/plain": [
       "     0 Graded Score Sourcehash Stud_ID Time Topic\n",
       "0  1.0    NaN   NaN        NaN     NaN  NaN   NaN\n",
       "1  2.0    NaN   NaN        NaN     NaN  NaN   NaN\n",
       "2  3.0    NaN   NaN        NaN     NaN  NaN   NaN\n",
       "3  4.0    NaN   NaN        NaN     NaN  NaN   NaN\n",
       "4  5.0    NaN   NaN        NaN     NaN  NaN   NaN\n",
       "5  6.0    NaN   NaN        NaN     NaN  NaN   NaN"
      ]
     },
     "execution_count": 29,
     "metadata": {},
     "output_type": "execute_result"
    }
   ],
   "source": [
    "df.append(list([1,2,3,4,5,6]))"
   ]
  },
  {
   "cell_type": "code",
   "execution_count": 34,
   "metadata": {},
   "outputs": [
    {
     "ename": "IndexError",
     "evalue": "single positional indexer is out-of-bounds",
     "output_type": "error",
     "traceback": [
      "\u001b[1;31m---------------------------------------------------------------------------\u001b[0m",
      "\u001b[1;31mIndexError\u001b[0m                                Traceback (most recent call last)",
      "\u001b[1;32m<ipython-input-34-5d2369db5354>\u001b[0m in \u001b[0;36m<module>\u001b[1;34m\u001b[0m\n\u001b[1;32m----> 1\u001b[1;33m \u001b[0mdf\u001b[0m\u001b[1;33m.\u001b[0m\u001b[0miloc\u001b[0m\u001b[1;33m[\u001b[0m\u001b[1;36m0\u001b[0m\u001b[1;33m]\u001b[0m\u001b[1;33m.\u001b[0m\u001b[0mappend\u001b[0m\u001b[1;33m(\u001b[0m\u001b[1;33m[\u001b[0m\u001b[1;36m1\u001b[0m\u001b[1;33m,\u001b[0m\u001b[1;36m2\u001b[0m\u001b[1;33m,\u001b[0m\u001b[1;36m3\u001b[0m\u001b[1;33m,\u001b[0m\u001b[1;36m4\u001b[0m\u001b[1;33m,\u001b[0m\u001b[1;36m5\u001b[0m\u001b[1;33m,\u001b[0m\u001b[1;36m6\u001b[0m\u001b[1;33m]\u001b[0m\u001b[1;33m)\u001b[0m\u001b[1;33m\u001b[0m\u001b[1;33m\u001b[0m\u001b[0m\n\u001b[0m",
      "\u001b[1;32m~\\Anaconda3\\lib\\site-packages\\pandas\\core\\indexing.py\u001b[0m in \u001b[0;36m__getitem__\u001b[1;34m(self, key)\u001b[0m\n\u001b[0;32m    893\u001b[0m \u001b[1;33m\u001b[0m\u001b[0m\n\u001b[0;32m    894\u001b[0m             \u001b[0mmaybe_callable\u001b[0m \u001b[1;33m=\u001b[0m \u001b[0mcom\u001b[0m\u001b[1;33m.\u001b[0m\u001b[0mapply_if_callable\u001b[0m\u001b[1;33m(\u001b[0m\u001b[0mkey\u001b[0m\u001b[1;33m,\u001b[0m \u001b[0mself\u001b[0m\u001b[1;33m.\u001b[0m\u001b[0mobj\u001b[0m\u001b[1;33m)\u001b[0m\u001b[1;33m\u001b[0m\u001b[1;33m\u001b[0m\u001b[0m\n\u001b[1;32m--> 895\u001b[1;33m             \u001b[1;32mreturn\u001b[0m \u001b[0mself\u001b[0m\u001b[1;33m.\u001b[0m\u001b[0m_getitem_axis\u001b[0m\u001b[1;33m(\u001b[0m\u001b[0mmaybe_callable\u001b[0m\u001b[1;33m,\u001b[0m \u001b[0maxis\u001b[0m\u001b[1;33m=\u001b[0m\u001b[0maxis\u001b[0m\u001b[1;33m)\u001b[0m\u001b[1;33m\u001b[0m\u001b[1;33m\u001b[0m\u001b[0m\n\u001b[0m\u001b[0;32m    896\u001b[0m \u001b[1;33m\u001b[0m\u001b[0m\n\u001b[0;32m    897\u001b[0m     \u001b[1;32mdef\u001b[0m \u001b[0m_is_scalar_access\u001b[0m\u001b[1;33m(\u001b[0m\u001b[0mself\u001b[0m\u001b[1;33m,\u001b[0m \u001b[0mkey\u001b[0m\u001b[1;33m:\u001b[0m \u001b[0mTuple\u001b[0m\u001b[1;33m)\u001b[0m\u001b[1;33m:\u001b[0m\u001b[1;33m\u001b[0m\u001b[1;33m\u001b[0m\u001b[0m\n",
      "\u001b[1;32m~\\Anaconda3\\lib\\site-packages\\pandas\\core\\indexing.py\u001b[0m in \u001b[0;36m_getitem_axis\u001b[1;34m(self, key, axis)\u001b[0m\n\u001b[0;32m   1499\u001b[0m \u001b[1;33m\u001b[0m\u001b[0m\n\u001b[0;32m   1500\u001b[0m             \u001b[1;31m# validate the location\u001b[0m\u001b[1;33m\u001b[0m\u001b[1;33m\u001b[0m\u001b[1;33m\u001b[0m\u001b[0m\n\u001b[1;32m-> 1501\u001b[1;33m             \u001b[0mself\u001b[0m\u001b[1;33m.\u001b[0m\u001b[0m_validate_integer\u001b[0m\u001b[1;33m(\u001b[0m\u001b[0mkey\u001b[0m\u001b[1;33m,\u001b[0m \u001b[0maxis\u001b[0m\u001b[1;33m)\u001b[0m\u001b[1;33m\u001b[0m\u001b[1;33m\u001b[0m\u001b[0m\n\u001b[0m\u001b[0;32m   1502\u001b[0m \u001b[1;33m\u001b[0m\u001b[0m\n\u001b[0;32m   1503\u001b[0m             \u001b[1;32mreturn\u001b[0m \u001b[0mself\u001b[0m\u001b[1;33m.\u001b[0m\u001b[0mobj\u001b[0m\u001b[1;33m.\u001b[0m\u001b[0m_ixs\u001b[0m\u001b[1;33m(\u001b[0m\u001b[0mkey\u001b[0m\u001b[1;33m,\u001b[0m \u001b[0maxis\u001b[0m\u001b[1;33m=\u001b[0m\u001b[0maxis\u001b[0m\u001b[1;33m)\u001b[0m\u001b[1;33m\u001b[0m\u001b[1;33m\u001b[0m\u001b[0m\n",
      "\u001b[1;32m~\\Anaconda3\\lib\\site-packages\\pandas\\core\\indexing.py\u001b[0m in \u001b[0;36m_validate_integer\u001b[1;34m(self, key, axis)\u001b[0m\n\u001b[0;32m   1442\u001b[0m         \u001b[0mlen_axis\u001b[0m \u001b[1;33m=\u001b[0m \u001b[0mlen\u001b[0m\u001b[1;33m(\u001b[0m\u001b[0mself\u001b[0m\u001b[1;33m.\u001b[0m\u001b[0mobj\u001b[0m\u001b[1;33m.\u001b[0m\u001b[0m_get_axis\u001b[0m\u001b[1;33m(\u001b[0m\u001b[0maxis\u001b[0m\u001b[1;33m)\u001b[0m\u001b[1;33m)\u001b[0m\u001b[1;33m\u001b[0m\u001b[1;33m\u001b[0m\u001b[0m\n\u001b[0;32m   1443\u001b[0m         \u001b[1;32mif\u001b[0m \u001b[0mkey\u001b[0m \u001b[1;33m>=\u001b[0m \u001b[0mlen_axis\u001b[0m \u001b[1;32mor\u001b[0m \u001b[0mkey\u001b[0m \u001b[1;33m<\u001b[0m \u001b[1;33m-\u001b[0m\u001b[0mlen_axis\u001b[0m\u001b[1;33m:\u001b[0m\u001b[1;33m\u001b[0m\u001b[1;33m\u001b[0m\u001b[0m\n\u001b[1;32m-> 1444\u001b[1;33m             \u001b[1;32mraise\u001b[0m \u001b[0mIndexError\u001b[0m\u001b[1;33m(\u001b[0m\u001b[1;34m\"single positional indexer is out-of-bounds\"\u001b[0m\u001b[1;33m)\u001b[0m\u001b[1;33m\u001b[0m\u001b[1;33m\u001b[0m\u001b[0m\n\u001b[0m\u001b[0;32m   1445\u001b[0m \u001b[1;33m\u001b[0m\u001b[0m\n\u001b[0;32m   1446\u001b[0m     \u001b[1;31m# -------------------------------------------------------------------\u001b[0m\u001b[1;33m\u001b[0m\u001b[1;33m\u001b[0m\u001b[1;33m\u001b[0m\u001b[0m\n",
      "\u001b[1;31mIndexError\u001b[0m: single positional indexer is out-of-bounds"
     ]
    }
   ],
   "source": [
    "df.iloc[0].append([1,2,3,4,5,6])"
   ]
  },
  {
   "cell_type": "code",
   "execution_count": 37,
   "metadata": {},
   "outputs": [
    {
     "data": {
      "text/html": [
       "<div>\n",
       "<style scoped>\n",
       "    .dataframe tbody tr th:only-of-type {\n",
       "        vertical-align: middle;\n",
       "    }\n",
       "\n",
       "    .dataframe tbody tr th {\n",
       "        vertical-align: top;\n",
       "    }\n",
       "\n",
       "    .dataframe thead th {\n",
       "        text-align: right;\n",
       "    }\n",
       "</style>\n",
       "<table border=\"1\" class=\"dataframe\">\n",
       "  <thead>\n",
       "    <tr style=\"text-align: right;\">\n",
       "      <th></th>\n",
       "      <th>0</th>\n",
       "    </tr>\n",
       "  </thead>\n",
       "  <tbody>\n",
       "    <tr>\n",
       "      <th>0</th>\n",
       "      <td>1</td>\n",
       "    </tr>\n",
       "    <tr>\n",
       "      <th>1</th>\n",
       "      <td>1</td>\n",
       "    </tr>\n",
       "    <tr>\n",
       "      <th>2</th>\n",
       "      <td>1</td>\n",
       "    </tr>\n",
       "    <tr>\n",
       "      <th>3</th>\n",
       "      <td>1</td>\n",
       "    </tr>\n",
       "    <tr>\n",
       "      <th>4</th>\n",
       "      <td>1</td>\n",
       "    </tr>\n",
       "    <tr>\n",
       "      <th>5</th>\n",
       "      <td>1</td>\n",
       "    </tr>\n",
       "  </tbody>\n",
       "</table>\n",
       "</div>"
      ],
      "text/plain": [
       "   0\n",
       "0  1\n",
       "1  1\n",
       "2  1\n",
       "3  1\n",
       "4  1\n",
       "5  1"
      ]
     },
     "execution_count": 37,
     "metadata": {},
     "output_type": "execute_result"
    }
   ],
   "source": [
    "pd.DataFrame([1,1,1,1,1,1])"
   ]
  },
  {
   "cell_type": "code",
   "execution_count": 41,
   "metadata": {},
   "outputs": [
    {
     "ename": "IndexError",
     "evalue": "iloc cannot enlarge its target object",
     "output_type": "error",
     "traceback": [
      "\u001b[1;31m---------------------------------------------------------------------------\u001b[0m",
      "\u001b[1;31mIndexError\u001b[0m                                Traceback (most recent call last)",
      "\u001b[1;32m<ipython-input-41-0e1a50a8f7af>\u001b[0m in \u001b[0;36m<module>\u001b[1;34m\u001b[0m\n\u001b[1;32m----> 1\u001b[1;33m \u001b[0mdf\u001b[0m\u001b[1;33m.\u001b[0m\u001b[0miloc\u001b[0m\u001b[1;33m[\u001b[0m\u001b[1;36m0\u001b[0m\u001b[1;33m]\u001b[0m \u001b[1;33m=\u001b[0m \u001b[1;33m[\u001b[0m\u001b[1;33m[\u001b[0m\u001b[1;36m1\u001b[0m\u001b[1;33m,\u001b[0m\u001b[1;36m1\u001b[0m\u001b[1;33m,\u001b[0m\u001b[1;36m1\u001b[0m\u001b[1;33m,\u001b[0m\u001b[1;36m1\u001b[0m\u001b[1;33m,\u001b[0m\u001b[1;36m1\u001b[0m\u001b[1;33m,\u001b[0m\u001b[1;36m1\u001b[0m\u001b[1;33m]\u001b[0m\u001b[1;33m]\u001b[0m\u001b[1;33m\u001b[0m\u001b[1;33m\u001b[0m\u001b[0m\n\u001b[0m",
      "\u001b[1;32m~\\Anaconda3\\lib\\site-packages\\pandas\\core\\indexing.py\u001b[0m in \u001b[0;36m__setitem__\u001b[1;34m(self, key, value)\u001b[0m\n\u001b[0;32m    687\u001b[0m             \u001b[0mkey\u001b[0m \u001b[1;33m=\u001b[0m \u001b[0mcom\u001b[0m\u001b[1;33m.\u001b[0m\u001b[0mapply_if_callable\u001b[0m\u001b[1;33m(\u001b[0m\u001b[0mkey\u001b[0m\u001b[1;33m,\u001b[0m \u001b[0mself\u001b[0m\u001b[1;33m.\u001b[0m\u001b[0mobj\u001b[0m\u001b[1;33m)\u001b[0m\u001b[1;33m\u001b[0m\u001b[1;33m\u001b[0m\u001b[0m\n\u001b[0;32m    688\u001b[0m         \u001b[0mindexer\u001b[0m \u001b[1;33m=\u001b[0m \u001b[0mself\u001b[0m\u001b[1;33m.\u001b[0m\u001b[0m_get_setitem_indexer\u001b[0m\u001b[1;33m(\u001b[0m\u001b[0mkey\u001b[0m\u001b[1;33m)\u001b[0m\u001b[1;33m\u001b[0m\u001b[1;33m\u001b[0m\u001b[0m\n\u001b[1;32m--> 689\u001b[1;33m         \u001b[0mself\u001b[0m\u001b[1;33m.\u001b[0m\u001b[0m_has_valid_setitem_indexer\u001b[0m\u001b[1;33m(\u001b[0m\u001b[0mkey\u001b[0m\u001b[1;33m)\u001b[0m\u001b[1;33m\u001b[0m\u001b[1;33m\u001b[0m\u001b[0m\n\u001b[0m\u001b[0;32m    690\u001b[0m \u001b[1;33m\u001b[0m\u001b[0m\n\u001b[0;32m    691\u001b[0m         \u001b[0miloc\u001b[0m \u001b[1;33m=\u001b[0m \u001b[0mself\u001b[0m \u001b[1;32mif\u001b[0m \u001b[0mself\u001b[0m\u001b[1;33m.\u001b[0m\u001b[0mname\u001b[0m \u001b[1;33m==\u001b[0m \u001b[1;34m\"iloc\"\u001b[0m \u001b[1;32melse\u001b[0m \u001b[0mself\u001b[0m\u001b[1;33m.\u001b[0m\u001b[0mobj\u001b[0m\u001b[1;33m.\u001b[0m\u001b[0miloc\u001b[0m\u001b[1;33m\u001b[0m\u001b[1;33m\u001b[0m\u001b[0m\n",
      "\u001b[1;32m~\\Anaconda3\\lib\\site-packages\\pandas\\core\\indexing.py\u001b[0m in \u001b[0;36m_has_valid_setitem_indexer\u001b[1;34m(self, indexer)\u001b[0m\n\u001b[0;32m   1399\u001b[0m             \u001b[1;32melif\u001b[0m \u001b[0mis_integer\u001b[0m\u001b[1;33m(\u001b[0m\u001b[0mi\u001b[0m\u001b[1;33m)\u001b[0m\u001b[1;33m:\u001b[0m\u001b[1;33m\u001b[0m\u001b[1;33m\u001b[0m\u001b[0m\n\u001b[0;32m   1400\u001b[0m                 \u001b[1;32mif\u001b[0m \u001b[0mi\u001b[0m \u001b[1;33m>=\u001b[0m \u001b[0mlen\u001b[0m\u001b[1;33m(\u001b[0m\u001b[0max\u001b[0m\u001b[1;33m)\u001b[0m\u001b[1;33m:\u001b[0m\u001b[1;33m\u001b[0m\u001b[1;33m\u001b[0m\u001b[0m\n\u001b[1;32m-> 1401\u001b[1;33m                     \u001b[1;32mraise\u001b[0m \u001b[0mIndexError\u001b[0m\u001b[1;33m(\u001b[0m\u001b[1;34m\"iloc cannot enlarge its target object\"\u001b[0m\u001b[1;33m)\u001b[0m\u001b[1;33m\u001b[0m\u001b[1;33m\u001b[0m\u001b[0m\n\u001b[0m\u001b[0;32m   1402\u001b[0m             \u001b[1;32melif\u001b[0m \u001b[0misinstance\u001b[0m\u001b[1;33m(\u001b[0m\u001b[0mi\u001b[0m\u001b[1;33m,\u001b[0m \u001b[0mdict\u001b[0m\u001b[1;33m)\u001b[0m\u001b[1;33m:\u001b[0m\u001b[1;33m\u001b[0m\u001b[1;33m\u001b[0m\u001b[0m\n\u001b[0;32m   1403\u001b[0m                 \u001b[1;32mraise\u001b[0m \u001b[0mIndexError\u001b[0m\u001b[1;33m(\u001b[0m\u001b[1;34m\"iloc cannot enlarge its target object\"\u001b[0m\u001b[1;33m)\u001b[0m\u001b[1;33m\u001b[0m\u001b[1;33m\u001b[0m\u001b[0m\n",
      "\u001b[1;31mIndexError\u001b[0m: iloc cannot enlarge its target object"
     ]
    }
   ],
   "source": [
    "df.iloc[0] = [[1,1,1,1,1,1]]"
   ]
  },
  {
   "cell_type": "code",
   "execution_count": 56,
   "metadata": {},
   "outputs": [],
   "source": [
    "attempt = pd.DataFrame(columns = [\"Stud_ID\",\"Topic\",\"Time\",\"Graded\",\"Score\",\"Sourcehash\"])\n",
    "series = pd.Series((2,1,3,4,5,6), index = attempt.columns)\n",
    "attempt = attempt.append(series, ignore_index=True)"
   ]
  },
  {
   "cell_type": "code",
   "execution_count": 57,
   "metadata": {},
   "outputs": [
    {
     "data": {
      "text/html": [
       "<div>\n",
       "<style scoped>\n",
       "    .dataframe tbody tr th:only-of-type {\n",
       "        vertical-align: middle;\n",
       "    }\n",
       "\n",
       "    .dataframe tbody tr th {\n",
       "        vertical-align: top;\n",
       "    }\n",
       "\n",
       "    .dataframe thead th {\n",
       "        text-align: right;\n",
       "    }\n",
       "</style>\n",
       "<table border=\"1\" class=\"dataframe\">\n",
       "  <thead>\n",
       "    <tr style=\"text-align: right;\">\n",
       "      <th></th>\n",
       "      <th>Stud_ID</th>\n",
       "      <th>Topic</th>\n",
       "      <th>Time</th>\n",
       "      <th>Graded</th>\n",
       "      <th>Score</th>\n",
       "      <th>Sourcehash</th>\n",
       "    </tr>\n",
       "  </thead>\n",
       "  <tbody>\n",
       "    <tr>\n",
       "      <th>0</th>\n",
       "      <td>2</td>\n",
       "      <td>1</td>\n",
       "      <td>3</td>\n",
       "      <td>4</td>\n",
       "      <td>5</td>\n",
       "      <td>6</td>\n",
       "    </tr>\n",
       "  </tbody>\n",
       "</table>\n",
       "</div>"
      ],
      "text/plain": [
       "  Stud_ID Topic Time Graded Score Sourcehash\n",
       "0       2     1    3      4     5          6"
      ]
     },
     "execution_count": 57,
     "metadata": {},
     "output_type": "execute_result"
    }
   ],
   "source": [
    "attempt"
   ]
  },
  {
   "cell_type": "code",
   "execution_count": 50,
   "metadata": {},
   "outputs": [],
   "source": [
    "attempt = attempt.append(series, ignore_index=True)"
   ]
  },
  {
   "cell_type": "code",
   "execution_count": 59,
   "metadata": {},
   "outputs": [
    {
     "data": {
      "text/html": [
       "<div>\n",
       "<style scoped>\n",
       "    .dataframe tbody tr th:only-of-type {\n",
       "        vertical-align: middle;\n",
       "    }\n",
       "\n",
       "    .dataframe tbody tr th {\n",
       "        vertical-align: top;\n",
       "    }\n",
       "\n",
       "    .dataframe thead th {\n",
       "        text-align: right;\n",
       "    }\n",
       "</style>\n",
       "<table border=\"1\" class=\"dataframe\">\n",
       "  <thead>\n",
       "    <tr style=\"text-align: right;\">\n",
       "      <th></th>\n",
       "      <th>Stud_ID</th>\n",
       "      <th>Topic</th>\n",
       "      <th>Time</th>\n",
       "      <th>Graded</th>\n",
       "      <th>Score</th>\n",
       "      <th>Sourcehash</th>\n",
       "    </tr>\n",
       "  </thead>\n",
       "  <tbody>\n",
       "  </tbody>\n",
       "</table>\n",
       "</div>"
      ],
      "text/plain": [
       "Empty DataFrame\n",
       "Columns: [Stud_ID, Topic, Time, Graded, Score, Sourcehash]\n",
       "Index: []"
      ]
     },
     "execution_count": 59,
     "metadata": {},
     "output_type": "execute_result"
    }
   ],
   "source": [
    "attempt = pd.DataFrame(columns = [\"Stud_ID\",\"Topic\",\"Time\",\"Graded\",\"Score\",\"Sourcehash\"])\n",
    "attempt"
   ]
  },
  {
   "cell_type": "code",
   "execution_count": 54,
   "metadata": {},
   "outputs": [
    {
     "data": {
      "text/plain": [
       "Stud_ID       2\n",
       "Topic         3\n",
       "Time          4\n",
       "Graded        5\n",
       "Score         6\n",
       "Sourcehash    7\n",
       "dtype: int64"
      ]
     },
     "execution_count": 54,
     "metadata": {},
     "output_type": "execute_result"
    }
   ],
   "source": [
    "a_series"
   ]
  },
  {
   "cell_type": "code",
   "execution_count": null,
   "metadata": {},
   "outputs": [],
   "source": []
  }
 ],
 "metadata": {
  "kernelspec": {
   "display_name": "Python 3",
   "language": "python",
   "name": "python3"
  },
  "language_info": {
   "codemirror_mode": {
    "name": "ipython",
    "version": 3
   },
   "file_extension": ".py",
   "mimetype": "text/x-python",
   "name": "python",
   "nbconvert_exporter": "python",
   "pygments_lexer": "ipython3",
   "version": "3.8.10"
  }
 },
 "nbformat": 4,
 "nbformat_minor": 4
}
